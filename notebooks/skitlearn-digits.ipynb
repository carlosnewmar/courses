{
 "cells": [
  {
   "cell_type": "markdown",
   "metadata": {},
   "source": [
    "# Machine learning"
   ]
  },
  {
   "cell_type": "code",
   "execution_count": 20,
   "metadata": {
    "collapsed": true
   },
   "outputs": [],
   "source": [
    "from sklearn import datasets\n",
    "digits = datasets.load_digits()"
   ]
  },
  {
   "cell_type": "code",
   "execution_count": 21,
   "metadata": {},
   "outputs": [
    {
     "name": "stdout",
     "output_type": "stream",
     "text": [
      "(1797, 64)\n",
      "(1797,)\n",
      "[  0.   0.   5.  13.   9.   1.   0.   0.   0.   0.  13.  15.  10.  15.   5.\n",
      "   0.   0.   3.  15.   2.   0.  11.   8.   0.   0.   4.  12.   0.   0.   8.\n",
      "   8.   0.   0.   5.   8.   0.   0.   9.   8.   0.   0.   4.  11.   0.   1.\n",
      "  12.   7.   0.   0.   2.  14.   5.  10.  12.   0.   0.   0.   0.   6.  13.\n",
      "  10.   0.   0.   0.]\n",
      "[[  0.   0.   5.  13.   9.   1.   0.   0.]\n",
      " [  0.   0.  13.  15.  10.  15.   5.   0.]\n",
      " [  0.   3.  15.   2.   0.  11.   8.   0.]\n",
      " [  0.   4.  12.   0.   0.   8.   8.   0.]\n",
      " [  0.   5.   8.   0.   0.   9.   8.   0.]\n",
      " [  0.   4.  11.   0.   1.  12.   7.   0.]\n",
      " [  0.   2.  14.   5.  10.  12.   0.   0.]\n",
      " [  0.   0.   6.  13.  10.   0.   0.   0.]]\n"
     ]
    }
   ],
   "source": [
    "print(digits.data.shape)\n",
    "print(digits.target.shape)\n",
    "print(digits.data[0])\n",
    "print(digits.images[0])"
   ]
  },
  {
   "cell_type": "code",
   "execution_count": null,
   "metadata": {},
   "outputs": [],
   "source": []
  },
  {
   "cell_type": "markdown",
   "metadata": {},
   "source": [
    "## Visualizing"
   ]
  },
  {
   "cell_type": "code",
   "execution_count": 22,
   "metadata": {},
   "outputs": [
    {
     "data": {
      "text/plain": [
       "<matplotlib.image.AxesImage at 0x7f2157150320>"
      ]
     },
     "execution_count": 22,
     "metadata": {},
     "output_type": "execute_result"
    },
    {
     "data": {
      "image/png": "[encoded data removed]",
      "text/plain": [
       "<Figure size 144x144 with 1 Axes>"
      ]
     },
     "metadata": {},
     "output_type": "display_data"
    }
   ],
   "source": [
    "import matplotlib.pyplot as plt\n",
    "%matplotlib inline\n",
    "\n",
    "plt.figure(figsize=(2,2))\n",
    "plt.imshow(digits.images[0], cmap=plt.cm.gray_r)"
   ]
  },
  {
   "cell_type": "markdown",
   "metadata": {},
   "source": [
    "## Selecting data"
   ]
  },
  {
   "cell_type": "code",
   "execution_count": 23,
   "metadata": {},
   "outputs": [],
   "source": [
    "from sklearn.model_selection import train_test_split\n",
    "from sklearn import metrics, svm\n",
    "\n",
    "x = digits.data\n",
    "y = digits.target\n",
    "x_train, x_test, y_train, y_test = train_test_split(x, y, test_size=0.2)\n"
   ]
  },
  {
   "cell_type": "markdown",
   "metadata": {},
   "source": [
    "# Support vector machine (SVM)"
   ]
  },
  {
   "cell_type": "markdown",
   "metadata": {},
   "source": [
    "### Training"
   ]
  },
  {
   "cell_type": "code",
   "execution_count": 24,
   "metadata": {},
   "outputs": [
    {
     "data": {
      "text/plain": [
       "SVC(C=1.0, cache_size=200, class_weight=None, coef0=0.0,\n",
       "  decision_function_shape='ovr', degree=3, gamma='auto', kernel='rbf',\n",
       "  max_iter=-1, probability=False, random_state=None, shrinking=True,\n",
       "  tol=0.001, verbose=False)"
      ]
     },
     "execution_count": 24,
     "metadata": {},
     "output_type": "execute_result"
    }
   ],
   "source": [
    "classifier = svm.SVC()\n",
    "classifier.fit(x, y)"
   ]
  },
  {
   "cell_type": "markdown",
   "metadata": {},
   "source": [
    "### Predict"
   ]
  },
  {
   "cell_type": "code",
   "execution_count": 25,
   "metadata": {},
   "outputs": [
    {
     "name": "stdout",
     "output_type": "stream",
     "text": [
      "1.0\n"
     ]
    }
   ],
   "source": [
    "previsoes = classifier.predict(x_test)\n",
    "print(metrics.accuracy_score(y_test, previsoes))"
   ]
  },
  {
   "cell_type": "markdown",
   "metadata": {},
   "source": [
    "### Testing"
   ]
  },
  {
   "cell_type": "code",
   "execution_count": 26,
   "metadata": {},
   "outputs": [
    {
     "name": "stdout",
     "output_type": "stream",
     "text": [
      "[[[ 1.          1.          1.        ]\n",
      "  [ 1.          1.          1.        ]\n",
      "  [ 1.          1.          1.        ]\n",
      "  [ 0.81568629  0.81568629  0.81568629]\n",
      "  [ 0.02745098  0.02745098  0.02745098]\n",
      "  [ 0.69411767  0.69411767  0.69411767]\n",
      "  [ 1.          1.          1.        ]\n",
      "  [ 1.          1.          1.        ]]\n",
      "\n",
      " [[ 1.          1.          1.        ]\n",
      "  [ 1.          1.          1.        ]\n",
      "  [ 0.69411767  0.69411767  0.69411767]\n",
      "  [ 0.02745098  0.02745098  0.02745098]\n",
      "  [ 0.          0.          0.        ]\n",
      "  [ 0.50196081  0.50196081  0.50196081]\n",
      "  [ 1.          1.          1.        ]\n",
      "  [ 1.          1.          1.        ]]\n",
      "\n",
      " [[ 0.93725491  0.93725491  0.93725491]\n",
      "  [ 0.3764706   0.3764706   0.3764706 ]\n",
      "  [ 0.          0.          0.        ]\n",
      "  [ 0.30980393  0.30980393  0.30980393]\n",
      "  [ 0.          0.          0.        ]\n",
      "  [ 0.69411767  0.69411767  0.69411767]\n",
      "  [ 1.          1.          1.        ]\n",
      "  [ 1.          1.          1.        ]]\n",
      "\n",
      " [[ 0.56470591  0.56470591  0.56470591]\n",
      "  [ 0.02745098  0.02745098  0.02745098]\n",
      "  [ 0.627451    0.627451    0.627451  ]\n",
      "  [ 1.          1.          1.        ]\n",
      "  [ 0.          0.          0.        ]\n",
      "  [ 0.75294119  0.75294119  0.75294119]\n",
      "  [ 1.          1.          1.        ]\n",
      "  [ 1.          1.          1.        ]]\n",
      "\n",
      " [[ 1.          1.          1.        ]\n",
      "  [ 1.          1.          1.        ]\n",
      "  [ 1.          1.          1.        ]\n",
      "  [ 0.81568629  0.81568629  0.81568629]\n",
      "  [ 0.          0.          0.        ]\n",
      "  [ 0.81568629  0.81568629  0.81568629]\n",
      "  [ 1.          1.          1.        ]\n",
      "  [ 1.          1.          1.        ]]\n",
      "\n",
      " [[ 1.          1.          1.        ]\n",
      "  [ 1.          1.          1.        ]\n",
      "  [ 1.          1.          1.        ]\n",
      "  [ 0.75294119  0.75294119  0.75294119]\n",
      "  [ 0.          0.          0.        ]\n",
      "  [ 1.          1.          1.        ]\n",
      "  [ 1.          1.          1.        ]\n",
      "  [ 1.          1.          1.        ]]\n",
      "\n",
      " [[ 1.          1.          1.        ]\n",
      "  [ 1.          1.          1.        ]\n",
      "  [ 1.          1.          1.        ]\n",
      "  [ 0.50196081  0.50196081  0.50196081]\n",
      "  [ 0.02745098  0.02745098  0.02745098]\n",
      "  [ 1.          1.          1.        ]\n",
      "  [ 1.          1.          1.        ]\n",
      "  [ 1.          1.          1.        ]]\n",
      "\n",
      " [[ 1.          1.          1.        ]\n",
      "  [ 1.          1.          1.        ]\n",
      "  [ 1.          1.          1.        ]\n",
      "  [ 0.50196081  0.50196081  0.50196081]\n",
      "  [ 0.24313726  0.24313726  0.24313726]\n",
      "  [ 1.          1.          1.        ]\n",
      "  [ 1.          1.          1.        ]\n",
      "  [ 1.          1.          1.        ]]]\n"
     ]
    }
   ],
   "source": [
    "import numpy as np\n",
    "import matplotlib.image as mpimg\n",
    "img = mpimg.imread('/home/carlosnewmar/Downloads/number.png')\n",
    "print(img)"
   ]
  },
  {
   "cell_type": "code",
   "execution_count": 27,
   "metadata": {},
   "outputs": [
    {
     "name": "stdout",
     "output_type": "stream",
     "text": [
      "[ 0  0  0  2 15  4  0  0  0  0  4 15 16  7  0  0  1  9 16 11 16  4  0  0  6\n",
      " 15  5  0 16  3  0  0  0  0  0  2 16  2  0  0  0  0  0  3 16  0  0  0  0  0\n",
      "  0  7 15  0  0  0  0  0  0  7 12  0  0  0]\n"
     ]
    }
   ],
   "source": [
    "def rgb2array(rgb):\n",
    "    img_array = np.dot(rgb[...,:3], [0.299, 0.587, 0.114])\n",
    "    img_array = (16 - (img_array * 16)).astype(int)\n",
    "    return img_array.flatten()\n",
    "\n",
    "print(rgb2array(img))"
   ]
  },
  {
   "cell_type": "code",
   "execution_count": 28,
   "metadata": {},
   "outputs": [
    {
     "data": {
      "text/plain": [
       "array([5])"
      ]
     },
     "execution_count": 28,
     "metadata": {},
     "output_type": "execute_result"
    }
   ],
   "source": [
    "classifier.predict([rgb2array(img)])"
   ]
  },
  {
   "cell_type": "markdown",
   "metadata": {},
   "source": [
    "## Logistic regression"
   ]
  },
  {
   "cell_type": "code",
   "execution_count": 29,
   "metadata": {},
   "outputs": [
    {
     "name": "stdout",
     "output_type": "stream",
     "text": [
      "0.944444444444\n"
     ]
    }
   ],
   "source": [
    "from sklearn.linear_model import LogisticRegression\n",
    "logreg = LogisticRegression()\n",
    "logreg.fit(x_train, y_train)\n",
    "previsoes_logreg = logreg.predict(x_test)\n",
    "acertos_logreg = metrics.accuracy_score(y_test, previsoes_logreg)\n",
    "print(acertos_logreg)"
   ]
  },
  {
   "cell_type": "code",
   "execution_count": 30,
   "metadata": {},
   "outputs": [
    {
     "name": "stdout",
     "output_type": "stream",
     "text": [
      "[1]\n"
     ]
    }
   ],
   "source": [
    "from sklearn.linear_model import LogisticRegression\n",
    "logreg = LogisticRegression()\n",
    "logreg.fit(x, y)\n",
    "previsao = logreg.predict([rgb2array(img)])\n",
    "print(previsao)"
   ]
  },
  {
   "cell_type": "code",
   "execution_count": 31,
   "metadata": {
    "collapsed": true
   },
   "outputs": [],
   "source": [
    "img2 = mpimg.imread('/home/carlosnewmar/Downloads/number2.png')"
   ]
  },
  {
   "cell_type": "code",
   "execution_count": 32,
   "metadata": {},
   "outputs": [
    {
     "name": "stdout",
     "output_type": "stream",
     "text": [
      "[8]\n"
     ]
    }
   ],
   "source": [
    "previsao = logreg.predict([rgb2array(img2)])\n",
    "print(previsao)"
   ]
  },
  {
   "cell_type": "code",
   "execution_count": null,
   "metadata": {},
   "outputs": [],
   "source": []
  }
 ],
 "metadata": {
  "kernelspec": {
   "display_name": "Python 3",
   "language": "python",
   "name": "python3"
  },
  "language_info": {
   "codemirror_mode": {
    "name": "ipython",
    "version": 3
   },
   "file_extension": ".py",
   "mimetype": "text/x-python",
   "name": "python",
   "nbconvert_exporter": "python",
   "pygments_lexer": "ipython3",
   "version": "3.6.7"
  }
 },
 "nbformat": 4,
 "nbformat_minor": 2
}
