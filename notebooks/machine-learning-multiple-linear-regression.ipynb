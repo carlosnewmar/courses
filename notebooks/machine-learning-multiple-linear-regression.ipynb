{
 "cells": [
  {
   "cell_type": "markdown",
   "metadata": {},
   "source": [
    "# Multiple Linear Regression"
   ]
  },
  {
   "cell_type": "markdown",
   "metadata": {},
   "source": [
    "## Importing the libraries"
   ]
  },
  {
   "cell_type": "code",
   "execution_count": 66,
   "metadata": {
    "collapsed": true
   },
   "outputs": [],
   "source": [
    "import numpy as np\n",
    "import matplotlib.pyplot as plt\n",
    "import pandas as pd"
   ]
  },
  {
   "cell_type": "markdown",
   "metadata": {},
   "source": [
    "## Importing the dataset"
   ]
  },
  {
   "cell_type": "code",
   "execution_count": 67,
   "metadata": {},
   "outputs": [],
   "source": [
    "dataset = pd.read_csv('50_Startups.csv')\n",
    "X = dataset.iloc[:, :-1].values\n",
    "y = dataset.iloc[:, 4].values"
   ]
  },
  {
   "cell_type": "markdown",
   "metadata": {},
   "source": [
    "## Taking care of missing data"
   ]
  },
  {
   "cell_type": "code",
   "execution_count": 68,
   "metadata": {
    "collapsed": true
   },
   "outputs": [],
   "source": [
    "# Deprecated one\n",
    "# from sklearn.preprocessing import Imputer\n",
    "# imputer = Imputer(missing_values='NaN', strategy='mean', axis=0)\n",
    "#from sklearn.impute import SimpleImputer\n",
    "#imputer = SimpleImputer(missing_values=np.nan, strategy='mean')\n",
    "#imputer = imputer.fit(X[:, 1:3])\n",
    "#X[:, 1:3] = imputer.transform(X[:, 1:3])"
   ]
  },
  {
   "cell_type": "markdown",
   "metadata": {},
   "source": [
    "## Encoding categorical data"
   ]
  },
  {
   "cell_type": "code",
   "execution_count": 69,
   "metadata": {},
   "outputs": [],
   "source": [
    "from sklearn.preprocessing import LabelEncoder, OneHotEncoder\n",
    "labelencoder_X = LabelEncoder()\n",
    "X[:, 3] = labelencoder_X.fit_transform(X[:, 3])\n",
    "onehotencoder = OneHotEncoder(categorical_features=[3])\n",
    "X = onehotencoder.fit_transform(X).toarray()"
   ]
  },
  {
   "cell_type": "markdown",
   "metadata": {},
   "source": [
    "## Avoiding the Dummy Variable Trap"
   ]
  },
  {
   "cell_type": "code",
   "execution_count": 70,
   "metadata": {
    "collapsed": true
   },
   "outputs": [],
   "source": [
    "# sklearn handle it, then we do not need to do this, but ...\n",
    "X = X[:, 1:]"
   ]
  },
  {
   "cell_type": "code",
   "execution_count": null,
   "metadata": {},
   "outputs": [],
   "source": []
  },
  {
   "cell_type": "markdown",
   "metadata": {},
   "source": [
    "## Splitting the dataset into the Training set and Test set"
   ]
  },
  {
   "cell_type": "code",
   "execution_count": 71,
   "metadata": {
    "collapsed": true
   },
   "outputs": [],
   "source": [
    "from sklearn.model_selection import train_test_split\n",
    "X_train, X_test, y_train, y_test = train_test_split(X, y, test_size = 0.2, random_state = 0)"
   ]
  },
  {
   "cell_type": "markdown",
   "metadata": {},
   "source": [
    "## Feature Scaling"
   ]
  },
  {
   "cell_type": "code",
   "execution_count": 72,
   "metadata": {
    "collapsed": true
   },
   "outputs": [],
   "source": [
    "# The use of scaling depends on the method used in machine learning\n",
    "#from sklearn.preprocessing import StandardScaler\n",
    "#sc_X = StandardScaler()\n",
    "#X_train = sc_X.fit_transform(X_train)\n",
    "#X_test = sc_X.transform(X_test)"
   ]
  },
  {
   "cell_type": "markdown",
   "metadata": {
    "collapsed": true
   },
   "source": [
    "## Fitting multiple linear regression to the training set"
   ]
  },
  {
   "cell_type": "code",
   "execution_count": 73,
   "metadata": {},
   "outputs": [
    {
     "data": {
      "text/plain": [
       "LinearRegression(copy_X=True, fit_intercept=True, n_jobs=1, normalize=False)"
      ]
     },
     "execution_count": 73,
     "metadata": {},
     "output_type": "execute_result"
    }
   ],
   "source": [
    "from sklearn.linear_model import LinearRegression\n",
    "regressor = LinearRegression()\n",
    "regressor.fit(X_train, y_train)"
   ]
  },
  {
   "cell_type": "markdown",
   "metadata": {},
   "source": [
    "## Predicting the test set results"
   ]
  },
  {
   "cell_type": "code",
   "execution_count": 74,
   "metadata": {
    "collapsed": true
   },
   "outputs": [],
   "source": [
    "y_pred = regressor.predict(X_test)"
   ]
  },
  {
   "cell_type": "markdown",
   "metadata": {},
   "source": [
    "## Building the optimal model using Backward Elimination"
   ]
  },
  {
   "cell_type": "code",
   "execution_count": 75,
   "metadata": {},
   "outputs": [],
   "source": [
    "import statsmodels.formula.api as sm\n",
    "X = np.append(arr=np.ones((50,1)).astype(int), values=X, axis=1)"
   ]
  },
  {
   "cell_type": "code",
   "execution_count": 93,
   "metadata": {},
   "outputs": [
    {
     "name": "stdout",
     "output_type": "stream",
     "text": [
      "X indexes =  [0 1 2 3 4 5]\n",
      "p_values =  [  4.44417839e-09   9.53242901e-01   9.89794124e-01   2.57877192e-21\n",
      "   6.07737327e-01   1.22676927e-01]\n",
      "index to check =  2 p_value to check =  0.989794124161\n",
      "-----------------\n",
      "X indexes =  [0 1 3 4 5]\n",
      "p_values =  [  1.63919646e-09   9.39832977e-01   8.29397484e-22   6.03729160e-01\n",
      "   1.18461365e-01]\n",
      "index to check =  1 p_value to check =  0.939832977258\n",
      "-----------------\n",
      "X indexes =  [0 3 4 5]\n",
      "p_values =  [  1.05737916e-09   2.63496772e-22   6.01755108e-01   1.04716819e-01]\n",
      "index to check =  2 p_value to check =  0.60175510785\n",
      "-----------------\n",
      "X indexes =  [0 3 5]\n",
      "p_values =  [  3.50406217e-22   6.04043259e-24   6.00303972e-02]\n",
      "index to check =  2 p_value to check =  0.0600303971911\n",
      "-----------------\n",
      "X indexes =  [0 3]\n",
      "p_values =  [  2.78269692e-24   3.50032224e-32]\n",
      "index to check =  0 p_value to check =  2.78269692297e-24\n",
      "-----------------\n"
     ]
    }
   ],
   "source": [
    "x_selection = np.array([0, 1, 2, 3, 4, 5])\n",
    "\n",
    "bk_loop = True\n",
    "while bk_loop:\n",
    "    X_opt = X[:, x_selection]\n",
    "    regressor_OLS = sm.OLS(endog=y, exog=X_opt).fit()\n",
    "    p_values = regressor_OLS.pvalues\n",
    "    index_max = np.argmax(p_values)\n",
    "    print('X indexes = ', x_selection)\n",
    "    print('p_values = ', p_values)\n",
    "    print('index to check = ', index_max, 'p_value to check = ', p_values[index_max])\n",
    "    print('-----------------')\n",
    "    if p_values[index_max] > 0.05:\n",
    "        x_selection = np.delete(x_selection, index_max)\n",
    "    else:\n",
    "        bk_loop = False"
   ]
  },
  {
   "cell_type": "code",
   "execution_count": null,
   "metadata": {
    "collapsed": true
   },
   "outputs": [],
   "source": []
  },
  {
   "cell_type": "code",
   "execution_count": null,
   "metadata": {
    "collapsed": true
   },
   "outputs": [],
   "source": []
  },
  {
   "cell_type": "markdown",
   "metadata": {},
   "source": [
    "## Evaluate performance"
   ]
  },
  {
   "cell_type": "code",
   "execution_count": 98,
   "metadata": {},
   "outputs": [
    {
     "name": "stdout",
     "output_type": "stream",
     "text": [
      "9137.99015279\n"
     ]
    }
   ],
   "source": [
    "from sklearn.linear_model import LinearRegression\n",
    "from sklearn import metrics\n",
    "regressor = LinearRegression()\n",
    "x_indexes = [0, 1, 2, 3, 4]\n",
    "regressor.fit(X_train[:, x_indexes], y_train)\n",
    "y_pred = regressor.predict(X_test[:, x_indexes])\n",
    "performance  = np.sqrt(metrics.mean_squared_error(y_test, y_pred))\n",
    "print(performance)"
   ]
  },
  {
   "cell_type": "code",
   "execution_count": 99,
   "metadata": {},
   "outputs": [
    {
     "name": "stdout",
     "output_type": "stream",
     "text": [
      "8274.86801823\n"
     ]
    }
   ],
   "source": [
    "x_indexes = [2]\n",
    "regressor.fit(X_train[:, x_indexes], y_train)\n",
    "y_pred = regressor.predict(X_test[:, x_indexes])\n",
    "performance  = np.sqrt(metrics.mean_squared_error(y_test, y_pred))\n",
    "print(performance)"
   ]
  },
  {
   "cell_type": "code",
   "execution_count": null,
   "metadata": {},
   "outputs": [],
   "source": []
  },
  {
   "cell_type": "code",
   "execution_count": null,
   "metadata": {
    "collapsed": true
   },
   "outputs": [],
   "source": []
  }
 ],
 "metadata": {
  "kernelspec": {
   "display_name": "Python 3",
   "language": "python",
   "name": "python3"
  },
  "language_info": {
   "codemirror_mode": {
    "name": "ipython",
    "version": 3
   },
   "file_extension": ".py",
   "mimetype": "text/x-python",
   "name": "python",
   "nbconvert_exporter": "python",
   "pygments_lexer": "ipython3",
   "version": "3.6.7"
  }
 },
 "nbformat": 4,
 "nbformat_minor": 2
}
